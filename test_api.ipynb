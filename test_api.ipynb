{
 "cells": [
  {
   "cell_type": "code",
   "execution_count": 1,
   "id": "traditional-minnesota",
   "metadata": {},
   "outputs": [],
   "source": [
    "import requests\n",
    "import json"
   ]
  },
  {
   "cell_type": "code",
   "execution_count": 2,
   "id": "published-potter",
   "metadata": {},
   "outputs": [],
   "source": [
    "q1 = 'How do I read and find my YouTube comments?'\n",
    "q2 = 'How can I see all my Youtube comments?'"
   ]
  },
  {
   "cell_type": "code",
   "execution_count": 3,
   "id": "silent-holly",
   "metadata": {},
   "outputs": [],
   "source": [
    "data = {\"q1\": q1, \"q2\": q2}\n",
    "payload = json.dumps(data)"
   ]
  },
  {
   "cell_type": "code",
   "execution_count": 4,
   "id": "linear-crawford",
   "metadata": {},
   "outputs": [],
   "source": [
    "api_endpoint = \"http://localhost:80/predict/paraphrase/\"\n",
    "headers = {'content-type': 'application/json'}\n",
    "\n",
    "response = requests.request(\"POST\", api_endpoint, data=payload, headers=headers)"
   ]
  },
  {
   "cell_type": "code",
   "execution_count": 5,
   "id": "anonymous-passing",
   "metadata": {},
   "outputs": [
    {
     "data": {
      "text/plain": [
       "200"
      ]
     },
     "execution_count": 5,
     "metadata": {},
     "output_type": "execute_result"
    }
   ],
   "source": [
    "response.status_code"
   ]
  },
  {
   "cell_type": "code",
   "execution_count": 6,
   "id": "portuguese-praise",
   "metadata": {},
   "outputs": [
    {
     "data": {
      "text/plain": [
       "'duplicate'"
      ]
     },
     "execution_count": 6,
     "metadata": {},
     "output_type": "execute_result"
    }
   ],
   "source": [
    "response.json()"
   ]
  },
  {
   "cell_type": "code",
   "execution_count": null,
   "id": "above-tracker",
   "metadata": {},
   "outputs": [],
   "source": []
  }
 ],
 "metadata": {
  "kernelspec": {
   "display_name": "Python 3",
   "language": "python",
   "name": "python3"
  },
  "language_info": {
   "codemirror_mode": {
    "name": "ipython",
    "version": 3
   },
   "file_extension": ".py",
   "mimetype": "text/x-python",
   "name": "python",
   "nbconvert_exporter": "python",
   "pygments_lexer": "ipython3",
   "version": "3.8.3"
  }
 },
 "nbformat": 4,
 "nbformat_minor": 5
}
