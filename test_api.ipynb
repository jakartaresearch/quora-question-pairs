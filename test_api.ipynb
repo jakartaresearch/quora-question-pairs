{
 "cells": [
  {
   "cell_type": "code",
   "execution_count": 1,
   "id": "encouraging-isolation",
   "metadata": {},
   "outputs": [],
   "source": [
    "import requests\n",
    "import json"
   ]
  },
  {
   "cell_type": "code",
   "execution_count": 2,
   "id": "saved-advertising",
   "metadata": {},
   "outputs": [],
   "source": [
    "q1 = 'How do I read and find my YouTube comments?'\n",
    "q2 = 'How can I see all my Youtube comments?'"
   ]
  },
  {
   "cell_type": "code",
   "execution_count": 3,
   "id": "specialized-citation",
   "metadata": {},
   "outputs": [],
   "source": [
    "data = {\"q1\": q1, \"q2\": q2}"
   ]
  },
  {
   "cell_type": "code",
   "execution_count": 4,
   "id": "functional-seminar",
   "metadata": {},
   "outputs": [],
   "source": [
    "api_endpoint = \"http://localhost:8000/paraphrase/predict\"\n",
    "headers = {'content-type': 'application/json'}\n",
    "\n",
    "response = requests.request(\"POST\", api_endpoint, json=data, headers=headers)"
   ]
  },
  {
   "cell_type": "code",
   "execution_count": 5,
   "id": "curious-little",
   "metadata": {},
   "outputs": [
    {
     "data": {
      "text/plain": [
       "200"
      ]
     },
     "execution_count": 5,
     "metadata": {},
     "output_type": "execute_result"
    }
   ],
   "source": [
    "response.status_code"
   ]
  },
  {
   "cell_type": "code",
   "execution_count": 6,
   "id": "entitled-facility",
   "metadata": {},
   "outputs": [
    {
     "data": {
      "text/plain": [
       "'duplicate'"
      ]
     },
     "execution_count": 6,
     "metadata": {},
     "output_type": "execute_result"
    }
   ],
   "source": [
    "response.json()"
   ]
  },
  {
   "cell_type": "code",
   "execution_count": 7,
   "id": "endless-tonight",
   "metadata": {},
   "outputs": [
    {
     "data": {
      "text/plain": [
       "{'_content': b'\"duplicate\"',\n",
       " '_content_consumed': True,\n",
       " '_next': None,\n",
       " 'status_code': 200,\n",
       " 'headers': {'date': 'Sat, 16 Oct 2021 12:23:26 GMT', 'server': 'uvicorn', 'content-length': '11', 'content-type': 'application/json'},\n",
       " 'raw': <urllib3.response.HTTPResponse at 0x7f62b5e0bac0>,\n",
       " 'url': 'http://localhost:8000/paraphrase/predict',\n",
       " 'encoding': None,\n",
       " 'history': [],\n",
       " 'reason': 'OK',\n",
       " 'cookies': <RequestsCookieJar[]>,\n",
       " 'elapsed': datetime.timedelta(microseconds=262548),\n",
       " 'request': <PreparedRequest [POST]>,\n",
       " 'connection': <requests.adapters.HTTPAdapter at 0x7f62b5df4b80>}"
      ]
     },
     "execution_count": 7,
     "metadata": {},
     "output_type": "execute_result"
    }
   ],
   "source": [
    "response.__dict__"
   ]
  },
  {
   "cell_type": "code",
   "execution_count": null,
   "id": "material-relief",
   "metadata": {},
   "outputs": [],
   "source": []
  }
 ],
 "metadata": {
  "kernelspec": {
   "display_name": "Python 3",
   "language": "python",
   "name": "python3"
  },
  "language_info": {
   "codemirror_mode": {
    "name": "ipython",
    "version": 3
   },
   "file_extension": ".py",
   "mimetype": "text/x-python",
   "name": "python",
   "nbconvert_exporter": "python",
   "pygments_lexer": "ipython3",
   "version": "3.8.3"
  }
 },
 "nbformat": 4,
 "nbformat_minor": 5
}
